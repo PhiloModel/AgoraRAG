{
 "cells": [
  {
   "cell_type": "code",
   "execution_count": 5,
   "id": "12ee6610-3774-4233-ac35-08f98fff4703",
   "metadata": {},
   "outputs": [
    {
     "name": "stdout",
     "output_type": "stream",
     "text": [
      "C:\\Users\\kubak\\Desktop\\PhiloModel\\github\\AgoraRAG\n"
     ]
    },
    {
     "name": "stderr",
     "output_type": "stream",
     "text": [
      "C:\\Users\\kubak\\AppData\\Local\\Programs\\Python\\Python312\\Lib\\site-packages\\IPython\\core\\magics\\osm.py:417: UserWarning: This is now an optional IPython functionality, setting dhist requires you to install the `pickleshare` library.\n",
      "  self.shell.db['dhist'] = compress_dhist(dhist)[-100:]\n"
     ]
    }
   ],
   "source": [
    "%cd .. "
   ]
  },
  {
   "cell_type": "code",
   "execution_count": 10,
   "id": "ecf13360-55e6-48b8-a47b-90c1094b2e77",
   "metadata": {
    "scrolled": true
   },
   "outputs": [],
   "source": [
    "# ! pip install yt_dlp\n",
    "# ! pip install pydub"
   ]
  },
  {
   "cell_type": "code",
   "execution_count": 17,
   "id": "670e047f-fa56-4ba7-a8ee-b4ccf4bd55cb",
   "metadata": {},
   "outputs": [],
   "source": [
    "from langchain_community.document_loaders.blob_loaders import FileSystemBlobLoader\n",
    "from langchain.document_loaders.parsers import OpenAIWhisperParser\n",
    "from langchain.document_loaders.blob_loaders.youtube_audio import YoutubeAudioLoader"
   ]
  },
  {
   "cell_type": "code",
   "execution_count": 12,
   "id": "0668620e-aefa-45a0-9b11-2c9fed47890c",
   "metadata": {},
   "outputs": [],
   "source": [
    "import os\n",
    "import openai\n",
    "import sys\n",
    "from dotenv import load_dotenv, find_dotenv\n",
    "from pytube import Playlist"
   ]
  },
  {
   "cell_type": "code",
   "execution_count": 13,
   "id": "778c3745-5d1e-4223-8402-d46287777437",
   "metadata": {},
   "outputs": [],
   "source": [
    "sys.path.append('../..')\n",
    "\n",
    "_ = load_dotenv(find_dotenv()) # read local .env file\n",
    "\n",
    "openai.api_key  = os.environ['OPENAI_API_KEY']"
   ]
  },
  {
   "cell_type": "markdown",
   "id": "4c52205b-72d6-495f-8bb1-09979b3af1de",
   "metadata": {},
   "source": [
    "# Pobieranie transkrypcji nagrań"
   ]
  },
  {
   "cell_type": "code",
   "execution_count": 21,
   "id": "dd391758-ec4f-4801-8993-5d43adc36295",
   "metadata": {},
   "outputs": [],
   "source": [
    "from youtube_transcript_api import YouTubeTranscriptApi\n",
    "from youtube_transcript_api._errors import TranscriptsDisabled"
   ]
  },
  {
   "cell_type": "markdown",
   "id": "08688fed-c2af-4f33-a5e4-01461c0fa58e",
   "metadata": {},
   "source": [
    "### Pobieramy playliste"
   ]
  },
  {
   "cell_type": "code",
   "execution_count": 14,
   "id": "0d3f0cc5-ea94-4c39-81b5-f2b67a5f8fdc",
   "metadata": {},
   "outputs": [],
   "source": [
    "# URL Twojej playlisty\n",
    "playlist_url = f\"https://www.youtube.com/playlist?list=PLB2n2tprwxCHXcDRS-rPfV8lKnuq5M35A\"\n",
    "\n",
    "# Utwórz obiekt Playlist\n",
    "playlist = Playlist(playlist_url)"
   ]
  },
  {
   "cell_type": "code",
   "execution_count": 25,
   "id": "3b3cb1c2-3f76-4d72-b24f-7f897d633bb6",
   "metadata": {},
   "outputs": [],
   "source": [
    "save_dir = f\"../../data/transcriptions/youtube/adam_gorniak/\"\n",
    "transcript_language = 'pl'"
   ]
  },
  {
   "cell_type": "code",
   "execution_count": 30,
   "id": "277ba918-dd5d-4a13-a6c7-c9ad2197e28c",
   "metadata": {
    "scrolled": true
   },
   "outputs": [],
   "source": [
    "def get_transcripts_from_youtube_playlist(playlist_url, transcript_language='pl'):\n",
    "    \n",
    "    transcripts = []\n",
    "    \n",
    "    for video in playlist.videos:\n",
    "        video_id = video.video_id\n",
    "        try:\n",
    "            transcript = YouTubeTranscriptApi.get_transcript(video_id, languages=[transcript_language])\n",
    "            transcript_text = ' '.join([entry['text'] for entry in transcript])\n",
    "            transcripts.append(transcript_text)\n",
    "            print(f\"Transkrypcja dla '{video}':\\n\\n\")\n",
    "        except TranscriptsDisabled:\n",
    "            print(f\"Brak transkrypcji dla '{video.title}'.\")\n",
    "            \n",
    "    return transcripts"
   ]
  },
  {
   "cell_type": "code",
   "execution_count": 31,
   "id": "5314b6df-1d3a-4daf-a5a5-e9c5d0daac62",
   "metadata": {
    "scrolled": true
   },
   "outputs": [
    {
     "name": "stdout",
     "output_type": "stream",
     "text": [
      "Transkrypcja dla '<pytube.__main__.YouTube object: videoId=_PtWezIzcwQ>':\n",
      "\n",
      "\n",
      "Transkrypcja dla '<pytube.__main__.YouTube object: videoId=7xkPK3WVo8I>':\n",
      "\n",
      "\n",
      "Transkrypcja dla '<pytube.__main__.YouTube object: videoId=-6kAQWLdcW8>':\n",
      "\n",
      "\n",
      "Transkrypcja dla '<pytube.__main__.YouTube object: videoId=UNyC1GfLDlI>':\n",
      "\n",
      "\n",
      "Transkrypcja dla '<pytube.__main__.YouTube object: videoId=2WmdOj2kdls>':\n",
      "\n",
      "\n",
      "Transkrypcja dla '<pytube.__main__.YouTube object: videoId=pMztTNMnhzI>':\n",
      "\n",
      "\n",
      "Transkrypcja dla '<pytube.__main__.YouTube object: videoId=teD-5pXV_y8>':\n",
      "\n",
      "\n",
      "Transkrypcja dla '<pytube.__main__.YouTube object: videoId=TPne04Gpt2k>':\n",
      "\n",
      "\n",
      "Transkrypcja dla '<pytube.__main__.YouTube object: videoId=oFoSKVjuaZ4>':\n",
      "\n",
      "\n",
      "Transkrypcja dla '<pytube.__main__.YouTube object: videoId=Sft0ZLqhAMQ>':\n",
      "\n",
      "\n",
      "Transkrypcja dla '<pytube.__main__.YouTube object: videoId=0SHsJovNq8A>':\n",
      "\n",
      "\n",
      "Transkrypcja dla '<pytube.__main__.YouTube object: videoId=EBx2zV0EYik>':\n",
      "\n",
      "\n",
      "Transkrypcja dla '<pytube.__main__.YouTube object: videoId=VBBa1ttoJWA>':\n",
      "\n",
      "\n"
     ]
    }
   ],
   "source": [
    "transcripts = get_transcripts_from_youtube_playlist(playlist_url, transcript_language=transcript_language)"
   ]
  },
  {
   "cell_type": "code",
   "execution_count": null,
   "id": "cf7f37ff-65b4-417e-9529-f2d7d8d35669",
   "metadata": {},
   "outputs": [],
   "source": []
  }
 ],
 "metadata": {
  "kernelspec": {
   "display_name": "Python 3 (ipykernel)",
   "language": "python",
   "name": "python3"
  },
  "language_info": {
   "codemirror_mode": {
    "name": "ipython",
    "version": 3
   },
   "file_extension": ".py",
   "mimetype": "text/x-python",
   "name": "python",
   "nbconvert_exporter": "python",
   "pygments_lexer": "ipython3",
   "version": "3.12.6"
  }
 },
 "nbformat": 4,
 "nbformat_minor": 5
}
