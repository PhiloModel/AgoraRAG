{
 "cells": [
  {
   "cell_type": "code",
   "execution_count": 1,
   "id": "6ee30073-a116-499a-b287-0274606ecaaf",
   "metadata": {},
   "outputs": [
    {
     "name": "stdout",
     "output_type": "stream",
     "text": [
      "C:\\Users\\kubak\\Desktop\\PhiloModel\\github\\AgoraRAG\n"
     ]
    },
    {
     "name": "stderr",
     "output_type": "stream",
     "text": [
      "C:\\Users\\kubak\\AppData\\Local\\Programs\\Python\\Python312\\Lib\\site-packages\\IPython\\core\\magics\\osm.py:417: UserWarning: This is now an optional IPython functionality, setting dhist requires you to install the `pickleshare` library.\n",
      "  self.shell.db['dhist'] = compress_dhist(dhist)[-100:]\n"
     ]
    }
   ],
   "source": [
    "%cd .. "
   ]
  },
  {
   "cell_type": "markdown",
   "id": "2237ce04-1b65-4578-9875-7cec16ec5325",
   "metadata": {},
   "source": [
    "# API + Instalacja"
   ]
  },
  {
   "cell_type": "code",
   "execution_count": 2,
   "id": "b5e57151-0325-41ce-9455-3fc34e653c16",
   "metadata": {
    "scrolled": true
   },
   "outputs": [],
   "source": [
    "#!pip install langchain\n",
    "#!pip install pypdf\n",
    "#!pip install yt_dlp\n",
    "#!pip install pydub\n",
    "#!pip install -U langchain-community"
   ]
  },
  {
   "cell_type": "code",
   "execution_count": 3,
   "id": "ccd8bb90-18c9-4f14-8173-d65c89de0641",
   "metadata": {},
   "outputs": [],
   "source": [
    "import os\n",
    "import openai\n",
    "import sys\n",
    "from dotenv import load_dotenv, find_dotenv"
   ]
  },
  {
   "cell_type": "code",
   "execution_count": 4,
   "id": "66c9df67-78f6-4dc6-921b-62f12f3afad1",
   "metadata": {},
   "outputs": [],
   "source": [
    "sys.path.append('..')\n",
    "\n",
    "_ = load_dotenv(find_dotenv()) # read local .env file\n",
    "\n",
    "openai.api_key  = os.environ['OPENAI_API_KEY']"
   ]
  },
  {
   "cell_type": "markdown",
   "id": "c8afca1d-2233-4709-acd7-fbeb4bc5fd21",
   "metadata": {},
   "source": [
    "# Import PDFs"
   ]
  },
  {
   "cell_type": "code",
   "execution_count": 5,
   "id": "bd98abfa-e81c-4034-9dff-7727d1282c94",
   "metadata": {},
   "outputs": [],
   "source": [
    "from langchain.document_loaders import PyPDFLoader\n",
    "import glob"
   ]
  },
  {
   "cell_type": "code",
   "execution_count": 8,
   "id": "bb5c2522-2b54-4257-b83f-5f2da392cd3d",
   "metadata": {},
   "outputs": [
    {
     "name": "stdout",
     "output_type": "stream",
     "text": [
      "/c/Users/kubak/Desktop/PhiloModel/github/AgoraRAG\n"
     ]
    }
   ],
   "source": [
    "!pwd"
   ]
  },
  {
   "cell_type": "code",
   "execution_count": 10,
   "id": "a01d112a-daa8-48d6-b916-f51f0e3f22b0",
   "metadata": {},
   "outputs": [],
   "source": [
    "from my_code.load_data.import_pdfs import load_pdfs_from_dir"
   ]
  },
  {
   "cell_type": "code",
   "execution_count": 11,
   "id": "754e141a-499e-4836-a587-e98112872301",
   "metadata": {},
   "outputs": [],
   "source": [
    "dir_path = f\"../../data/pdfs/books/HistoriaFilozofii-Tatarkiewicz/\""
   ]
  },
  {
   "cell_type": "code",
   "execution_count": 12,
   "id": "7124dba1-6f8a-41e8-909d-68c9fe972acf",
   "metadata": {},
   "outputs": [
    {
     "name": "stdout",
     "output_type": "stream",
     "text": [
      "Processing ../../data/pdfs/books/HistoriaFilozofii-Tatarkiewicz\\wadysaw-tatarkiewicz-historia-filozofii-tom1.pdf\n",
      "Processing ../../data/pdfs/books/HistoriaFilozofii-Tatarkiewicz\\wadysaw-tatarkiewicz-historia-filozofii-tom2.pdf\n",
      "Loaded 443 docs.\n"
     ]
    }
   ],
   "source": [
    "all_pdfs = load_pdfs_from_dir(dir_path)"
   ]
  },
  {
   "cell_type": "code",
   "execution_count": null,
   "id": "0d885c47-1548-4427-9f54-d656b5d36556",
   "metadata": {},
   "outputs": [],
   "source": []
  },
  {
   "cell_type": "code",
   "execution_count": null,
   "id": "7850f6cd-17f1-445f-95c9-6b833768c58f",
   "metadata": {},
   "outputs": [],
   "source": []
  },
  {
   "cell_type": "code",
   "execution_count": null,
   "id": "328af2d7-1a50-431f-ab0c-ed4e8852522c",
   "metadata": {},
   "outputs": [],
   "source": []
  }
 ],
 "metadata": {
  "kernelspec": {
   "display_name": "Python 3 (ipykernel)",
   "language": "python",
   "name": "python3"
  },
  "language_info": {
   "codemirror_mode": {
    "name": "ipython",
    "version": 3
   },
   "file_extension": ".py",
   "mimetype": "text/x-python",
   "name": "python",
   "nbconvert_exporter": "python",
   "pygments_lexer": "ipython3",
   "version": "3.12.6"
  }
 },
 "nbformat": 4,
 "nbformat_minor": 5
}
