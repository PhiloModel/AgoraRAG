{
 "cells": [
  {
   "cell_type": "code",
   "execution_count": 16,
   "id": "eab7d6d5-05f4-4d16-a111-44778a627563",
   "metadata": {},
   "outputs": [],
   "source": [
    "import requests\n",
    "import os\n",
    "from dotenv import load_dotenv\n",
    "import json"
   ]
  },
  {
   "cell_type": "code",
   "execution_count": 20,
   "id": "9f80e457-d477-42e8-a348-9075c294e487",
   "metadata": {},
   "outputs": [],
   "source": [
    "# Wczytanie zmiennych z pliku .env\n",
    "load_dotenv()\n",
    "\n",
    "# Pobranie wartości zmiennych środowiskowych\n",
    "API_TOKEN = os.getenv(\"API_TOKEN\")\n",
    "GROQ_API = os.getenv(\"GROQ_API\")"
   ]
  },
  {
   "cell_type": "code",
   "execution_count": 27,
   "id": "48fffb65-16e5-4277-913e-0319ad17cdc7",
   "metadata": {},
   "outputs": [],
   "source": [
    "import os\n",
    "from groq import Groq\n",
    "\n",
    "# Inicjalizacja klienta Groq\n",
    "client = Groq(api_key=GROQ_API)"
   ]
  },
  {
   "cell_type": "code",
   "execution_count": 83,
   "id": "fc711576-dd86-40f3-add2-9542f63c6a38",
   "metadata": {},
   "outputs": [
    {
     "name": "stdout",
     "output_type": "stream",
     "text": [
      "Streszczenie: RAG-based Chatbot for Education: A Solution for Student Learning and Exam Preparation\n"
     ]
    }
   ],
   "source": [
    "# Tekst do streszczenia\n",
    "text = \"\"\"Stwórzcie edukacyjnego chatbota opartego\n",
    "o technologię Retrieval-Augmented Generation\n",
    "(RAG), który pomoże studentom w nauce\n",
    "\n",
    "i przygotowaniach do egzaminów. Chciałbym stworzyć takie chatbota.\n",
    "\n",
    "Istnieją może dostępne kursy pod taki lub podobny problem?\"\"\"\n",
    "\n",
    "\n",
    "# Tworzenie zapytania do modelu\n",
    "response = client.chat.completions.create(\n",
    "    model=\"llama3-8b-8192\",\n",
    "    messages=[\n",
    "        {\n",
    "            \"role\": \"system\",\n",
    "            \"content\": \"Streszczaj każde zapytanie użytkownika w jednym krótkim zdaniu, podając jego główny temat. Niech streszczenie przypomina nazwę artkykułu (w takim języku jak język zapytania). Zwracaj tylko ta nazwę artykułu. Odpowiedź/Streszczenie jest w takim samym języku jak zapytanie.\"\n",
    "        },\n",
    "        {\n",
    "            \"role\": \"user\",\n",
    "            \"content\": text\n",
    "        }\n",
    "    ],\n",
    "    temperature=0.1,\n",
    "    max_tokens=600,\n",
    ")\n",
    "\n",
    "# Wyświetlenie streszczenia\n",
    "print(\"Streszczenie:\", response.choices[0].message.content.strip().replace('\"',\"\"))\n"
   ]
  },
  {
   "cell_type": "code",
   "execution_count": 41,
   "id": "6a83582a-f796-4bae-9e09-80a21ba53063",
   "metadata": {},
   "outputs": [],
   "source": [
    "ans = response.choices[0].message.content.strip()"
   ]
  },
  {
   "cell_type": "code",
   "execution_count": 43,
   "id": "670c9a5b-1f14-4cdf-96a4-8db9f4902963",
   "metadata": {},
   "outputs": [
    {
     "name": "stdout",
     "output_type": "stream",
     "text": [
      "Temat: Cena GPT-4 API\n",
      "\n",
      "Pytanie: Czy GPT-4 API jest darmowe?\n"
     ]
    }
   ],
   "source": [
    "print(ans)"
   ]
  },
  {
   "cell_type": "code",
   "execution_count": null,
   "id": "49b1e29d-7cc7-4b90-baf9-8581ac18fff6",
   "metadata": {},
   "outputs": [],
   "source": []
  }
 ],
 "metadata": {
  "kernelspec": {
   "display_name": "Python [conda env:base] *",
   "language": "python",
   "name": "conda-base-py"
  },
  "language_info": {
   "codemirror_mode": {
    "name": "ipython",
    "version": 3
   },
   "file_extension": ".py",
   "mimetype": "text/x-python",
   "name": "python",
   "nbconvert_exporter": "python",
   "pygments_lexer": "ipython3",
   "version": "3.12.7"
  }
 },
 "nbformat": 4,
 "nbformat_minor": 5
}
