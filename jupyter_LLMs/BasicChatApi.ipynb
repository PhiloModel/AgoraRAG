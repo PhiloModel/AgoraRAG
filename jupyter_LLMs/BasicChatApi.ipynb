{
 "cells": [
  {
   "cell_type": "code",
   "execution_count": 8,
   "id": "fa09c772-5b0d-439f-b897-81a628cb2a26",
   "metadata": {},
   "outputs": [],
   "source": [
    "import requests\n",
    "import os\n",
    "from dotenv import load_dotenv\n",
    "import json"
   ]
  },
  {
   "cell_type": "code",
   "execution_count": 10,
   "id": "4c0a9b15-7520-412d-9b47-17a74b0f4948",
   "metadata": {},
   "outputs": [],
   "source": [
    "# Wczytanie zmiennych z pliku .env\n",
    "load_dotenv()\n",
    "\n",
    "# Pobranie wartości zmiennych środowiskowych\n",
    "API_TOKEN = os.getenv(\"API_TOKEN\")\n",
    "GROQ_API = os.getenv(\"GROQ_API\")"
   ]
  },
  {
   "cell_type": "markdown",
   "id": "a3457d76-8df9-480d-99b1-ab44c8287bfa",
   "metadata": {},
   "source": [
    "# Groq API"
   ]
  },
  {
   "cell_type": "code",
   "execution_count": null,
   "id": "f91c8087-196f-42a1-b557-f06e37b92d7b",
   "metadata": {},
   "outputs": [],
   "source": [
    "# Endpoint API\n",
    "url = 'https://api.groq.com/openai/v1/chat/completions'\n",
    "\n",
    "# Nagłówki żądania\n",
    "headers = {\n",
    "    'Authorization': f'Bearer {GROQ_API}',\n",
    "    'Content-Type': 'application/json'\n",
    "}"
   ]
  },
  {
   "cell_type": "code",
   "execution_count": 74,
   "id": "65698b9f-1aa6-4bb5-85ba-f0b234665ce2",
   "metadata": {},
   "outputs": [],
   "source": [
    "conversation_history = [\n",
    "    {\"role\": \"system\", \"content\": \"Jestem pomocnym asystentem.\"},\n",
    "   ]\n"
   ]
  },
  {
   "cell_type": "code",
   "execution_count": 84,
   "id": "d5165e93-1bf2-42d2-bb3c-ebc8a74c1e70",
   "metadata": {},
   "outputs": [],
   "source": [
    "query = \"Jakie było moje ostatnie pytanie? \"\n",
    "\n",
    "model = 'llama3-70b-8192'"
   ]
  },
  {
   "cell_type": "code",
   "execution_count": 86,
   "id": "2a50b8ce-f096-4171-b0ce-39b88404f1c7",
   "metadata": {},
   "outputs": [
    {
     "name": "stdout",
     "output_type": "stream",
     "text": [
      "Asystent: Twoje ostatnie pytanie brzmiało: \"Kto to król?\"\n"
     ]
    }
   ],
   "source": [
    "prompt = f\"\"\"\n",
    " Answer in same language as question\n",
    " This is query: {query}\n",
    "\"\"\"\n",
    "\n",
    "conversation_history.append(prompt)\n",
    "\n",
    "# Dane żądania\n",
    "data = {\n",
    "    'model': model,\n",
    "    'messages': conversation_history,\n",
    "    'temperature': 0.2,\n",
    "    'max_tokens': 512\n",
    "}\n",
    "\n",
    "conversation_history.pop()\n",
    "conversation_history.append({\"role\": \"user\", \"content\": query})\n",
    "\n",
    "# Wysłanie żądania\n",
    "response = requests.post(url, headers=headers, json=data)\n",
    "\n",
    "# Sprawdzenie odpowiedzi\n",
    "if response.status_code == 200:\n",
    "    result = response.json()\n",
    "    assistant_reply = result['choices'][0]['message']['content']\n",
    "    print(\"Asystent:\", assistant_reply)\n",
    "    # Dodanie odpowiedzi asystenta do historii\n",
    "    conversation_history.append({\"role\": \"assistant\", \"content\": assistant_reply})\n",
    "else:\n",
    "    print(f'Błąd: {response.status_code} - {response.text}')"
   ]
  },
  {
   "cell_type": "code",
   "execution_count": null,
   "id": "a8d620ec-6f60-4257-847d-c87c1f16070b",
   "metadata": {},
   "outputs": [],
   "source": []
  },
  {
   "cell_type": "code",
   "execution_count": null,
   "id": "990feafa-a72f-48a2-91fc-34844efaa0be",
   "metadata": {},
   "outputs": [],
   "source": []
  },
  {
   "cell_type": "code",
   "execution_count": null,
   "id": "d65118f1-1c9f-49f8-975f-db98f3e89bf5",
   "metadata": {},
   "outputs": [],
   "source": []
  }
 ],
 "metadata": {
  "kernelspec": {
   "display_name": "Python [conda env:base] *",
   "language": "python",
   "name": "conda-base-py"
  },
  "language_info": {
   "codemirror_mode": {
    "name": "ipython",
    "version": 3
   },
   "file_extension": ".py",
   "mimetype": "text/x-python",
   "name": "python",
   "nbconvert_exporter": "python",
   "pygments_lexer": "ipython3",
   "version": "3.12.7"
  }
 },
 "nbformat": 4,
 "nbformat_minor": 5
}
