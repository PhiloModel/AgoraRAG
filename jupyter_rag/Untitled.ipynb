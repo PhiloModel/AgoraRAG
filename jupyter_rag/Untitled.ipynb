{
 "cells": [
  {
   "cell_type": "code",
   "execution_count": 3,
   "id": "43e22bb7-6800-4aa1-89c0-8604dc26c9b9",
   "metadata": {},
   "outputs": [
    {
     "name": "stdout",
     "output_type": "stream",
     "text": [
      "C:\\Users\\kubak\\Desktop\\PhiloModel\\github\\AgoraRAG\n"
     ]
    },
    {
     "name": "stderr",
     "output_type": "stream",
     "text": [
      "C:\\Users\\kubak\\AppData\\Local\\Programs\\Python\\Python312\\Lib\\site-packages\\IPython\\core\\magics\\osm.py:417: UserWarning: This is now an optional IPython functionality, setting dhist requires you to install the `pickleshare` library.\n",
      "  self.shell.db['dhist'] = compress_dhist(dhist)[-100:]\n"
     ]
    }
   ],
   "source": [
    "%cd .."
   ]
  },
  {
   "cell_type": "code",
   "execution_count": 2,
   "id": "e85c8f59-ae86-43bc-8c71-800fb838746b",
   "metadata": {},
   "outputs": [],
   "source": [
    "import os\n",
    "import openai\n",
    "import sys\n",
    "from dotenv import load_dotenv, find_dotenv"
   ]
  },
  {
   "cell_type": "code",
   "execution_count": 1,
   "id": "8e6a1dfe-bfcf-465d-b78d-39a2f2045c25",
   "metadata": {},
   "outputs": [],
   "source": [
    "sys.path.append('../..')\n",
    "\n",
    "_ = load_dotenv(find_dotenv()) # read local .env file\n",
    "\n",
    "openai.api_key  = os.environ['OPENAI_API_KEY']"
   ]
  },
  {
   "cell_type": "markdown",
   "id": "7c910315-2857-41e5-966d-69800eee89ea",
   "metadata": {},
   "source": [
    "# Load data"
   ]
  },
  {
   "cell_type": "code",
   "execution_count": 4,
   "id": "1bdbf7d9-c6a2-43b6-9a82-890f6f413855",
   "metadata": {},
   "outputs": [],
   "source": [
    "from my_code.load_data.import_pdfs import load_pdfs_from_dir"
   ]
  },
  {
   "cell_type": "code",
   "execution_count": 5,
   "id": "a95226c0-61f5-4dd3-abe9-ec5122886ce8",
   "metadata": {},
   "outputs": [],
   "source": [
    "dir_path = f\"../../data/pdfs/books/HistoriaFilozofii-Tatarkiewicz/\""
   ]
  },
  {
   "cell_type": "code",
   "execution_count": 6,
   "id": "652a51c4-f5f5-43d7-9a15-31379444ac8f",
   "metadata": {},
   "outputs": [
    {
     "name": "stdout",
     "output_type": "stream",
     "text": [
      "Processing ../../data/pdfs/books/HistoriaFilozofii-Tatarkiewicz\\wadysaw-tatarkiewicz-historia-filozofii-tom1.pdf\n",
      "Processing ../../data/pdfs/books/HistoriaFilozofii-Tatarkiewicz\\wadysaw-tatarkiewicz-historia-filozofii-tom2.pdf\n",
      "Loaded 443 docs.\n"
     ]
    }
   ],
   "source": [
    "all_pdfs = load_pdfs_from_dir(dir_path)"
   ]
  },
  {
   "cell_type": "markdown",
   "id": "7996c230-1afa-4d99-ad13-b309e66e0712",
   "metadata": {},
   "source": [
    "# Splitting data"
   ]
  },
  {
   "cell_type": "code",
   "execution_count": null,
   "id": "6e536b3e-914b-400b-acf4-2d41f9085776",
   "metadata": {},
   "outputs": [],
   "source": [
    "#!pip install chromadb"
   ]
  },
  {
   "cell_type": "code",
   "execution_count": 7,
   "id": "b6b065e3-7c41-4eef-8d55-77e3ef4ab63f",
   "metadata": {},
   "outputs": [],
   "source": [
    "# Split\n",
    "from langchain.text_splitter import RecursiveCharacterTextSplitter\n",
    "\n",
    "text_splitter = RecursiveCharacterTextSplitter(\n",
    "    chunk_size = 1500,\n",
    "    chunk_overlap = 150\n",
    ")"
   ]
  },
  {
   "cell_type": "code",
   "execution_count": 9,
   "id": "936565c0-58f2-464b-ab3c-ab0947792c85",
   "metadata": {},
   "outputs": [],
   "source": [
    "splits = text_splitter.split_documents(all_pdfs)"
   ]
  },
  {
   "cell_type": "code",
   "execution_count": 10,
   "id": "f3972b1a-b7fc-4300-8e53-e13df08047f5",
   "metadata": {},
   "outputs": [
    {
     "data": {
      "text/plain": [
       "1644"
      ]
     },
     "execution_count": 10,
     "metadata": {},
     "output_type": "execute_result"
    }
   ],
   "source": [
    "len(splits)"
   ]
  },
  {
   "cell_type": "code",
   "execution_count": 16,
   "id": "6533ead7-af04-4595-ab92-ae4363023079",
   "metadata": {},
   "outputs": [
    {
     "data": {
      "text/plain": [
       "'\"żywiołów\" i \"pierwiastków\". Jak z niewielu barw na palecie malarza powstaje barwny obraz, tak  \\nteż  z  niewielu  żywiołów  powstają  różnorodne  rzeczy.  Empedokles  nie  rozwiązał  wprawdzie \\nzagadnienia szczęśliwie, ale postawił je trafnie. Zaczął bowiem szukać prostych składników materii \\ni może być uważany za twórcę pojęcia pierwiastka. Rozmnożywszy Parmenideiskie pojęcie bytu,  \\npotrafił uzgodnić je ze zjawiskami i uczynić zastosowalnym w przyrodoznawstwie.\\nPrzygotował  w  ten  sposób  podstawę  do  rozważań  natury  chemicznej.  Sam  rozwa-żania  te \\nzapoczątkował: próbował tłumaczyć wzajemne zachowanie się ciał przez ich po-winowactwo, a  \\nróżnice między ciałami traktował jako różnice ilościowe i różnice struktury. Zastosowania były  \\nnaiwne (mówił np., że mięso i krew mają równe ilości żywiołów, kość jest zaś w połowie ogniem,  \\na w jednej czwartej ziemią i w jednej czwartej wodą), jednakże zawierały w zaczątkowej postaci  \\nzasadnicze myśli chemii.\\n2. TEORIA SIŁ. Drugie wielkie zagadnienie Empedoklesa było: Dlaczego żywioły łączą się i  \\nrozłączają?  Zagadnienie  było  nowe;  jońscy  filozofowie  dochodzili  tylko,  jak  doko-nywają  się \\nzmiany, ale nie dlaczego. Pytać, dlaczego materia zmienia się, to znaczyłoby\\ndla nich pytać:  dlaczego zmienia się to, co z natury swej jest zmienne. Przypisywali bowiem  \\nmaterii zdolność samorzutną przetwarzania się, nie oddzielali siły od materii; wyobrażali sobie'"
      ]
     },
     "execution_count": 16,
     "metadata": {},
     "output_type": "execute_result"
    }
   ],
   "source": [
    "splits[100].page_content"
   ]
  },
  {
   "cell_type": "markdown",
   "id": "5a171579-068b-4743-a5a2-3e1fc84345c1",
   "metadata": {},
   "source": [
    "# Embedding"
   ]
  },
  {
   "cell_type": "code",
   "execution_count": 22,
   "id": "acc4f19a-1a51-4d51-a880-4f558d3af08f",
   "metadata": {},
   "outputs": [
    {
     "name": "stderr",
     "output_type": "stream",
     "text": [
      "C:\\Users\\kubak\\AppData\\Local\\Temp\\ipykernel_21496\\1742550774.py:2: LangChainDeprecationWarning: The class `OpenAIEmbeddings` was deprecated in LangChain 0.0.9 and will be removed in 1.0. An updated version of the class exists in the :class:`~langchain-openai package and should be used instead. To use it run `pip install -U :class:`~langchain-openai` and import as `from :class:`~langchain_openai import OpenAIEmbeddings``.\n",
      "  embedding = OpenAIEmbeddings()\n"
     ]
    }
   ],
   "source": [
    "from langchain.embeddings.openai import OpenAIEmbeddings\n",
    "embedding = OpenAIEmbeddings()"
   ]
  },
  {
   "cell_type": "markdown",
   "id": "0eb3425a-dc66-4d4a-b327-7c4702251a73",
   "metadata": {},
   "source": [
    "# Vectorstores"
   ]
  },
  {
   "cell_type": "code",
   "execution_count": 19,
   "id": "e2fd802f-5392-4991-980b-fd8359c96027",
   "metadata": {},
   "outputs": [],
   "source": [
    "from langchain.vectorstores import Chroma"
   ]
  },
  {
   "cell_type": "code",
   "execution_count": 20,
   "id": "94b3e024-0ff9-4aa8-b0e3-37b024840227",
   "metadata": {},
   "outputs": [],
   "source": [
    "persist_directory = 'docs/chroma/'"
   ]
  },
  {
   "cell_type": "code",
   "execution_count": null,
   "id": "ff0709fb-ef09-4902-a736-862c4a5e473f",
   "metadata": {},
   "outputs": [],
   "source": [
    "#!rm -rf ./docs/chroma  # remove old database files if any"
   ]
  },
  {
   "cell_type": "code",
   "execution_count": 23,
   "id": "fd7c4d1c-8264-496c-97dc-145863d0de39",
   "metadata": {},
   "outputs": [],
   "source": [
    "vectordb = Chroma.from_documents(\n",
    "    documents=splits,\n",
    "    embedding=embedding,\n",
    "    persist_directory=persist_directory\n",
    ")"
   ]
  },
  {
   "cell_type": "code",
   "execution_count": 24,
   "id": "6afedc85-b500-44a0-89b8-0abe8a576e76",
   "metadata": {},
   "outputs": [
    {
     "name": "stdout",
     "output_type": "stream",
     "text": [
      "1644\n"
     ]
    }
   ],
   "source": [
    "print(vectordb._collection.count())"
   ]
  },
  {
   "cell_type": "markdown",
   "id": "f3dec73d-1346-492d-b442-a4e423f29361",
   "metadata": {},
   "source": [
    "# Similiarity Search"
   ]
  },
  {
   "cell_type": "code",
   "execution_count": 30,
   "id": "c0452ea8-d095-4fa5-bc73-b57636b4e1b9",
   "metadata": {},
   "outputs": [],
   "source": [
    "question = \"Kim by Kant?\""
   ]
  },
  {
   "cell_type": "code",
   "execution_count": 31,
   "id": "d4886988-241b-4daa-ad0e-1f56911ad792",
   "metadata": {},
   "outputs": [],
   "source": [
    "docs = vectordb.similarity_search(question,k=3)"
   ]
  },
  {
   "cell_type": "code",
   "execution_count": 32,
   "id": "92f86327-9659-4560-932e-4e4bab5f7745",
   "metadata": {},
   "outputs": [
    {
     "data": {
      "text/plain": [
       "'intelektualnych Niemiec przez ziemie polskie i zdanym na siebie. Uniwersytet Królewiecki był \\ndrugorzędną  uczelnią,  która  dopiero  dzięki  Kantowi  zyskała  rozgłos;  nie  dane  było  Kantowi \\nobcować  z  ludźmi,  którzy  byliby  równi  lub  choćby  zbliżeni  doń  poziomem  umysłu.  W \\nprzeciwieństwie do innych, doniosłych wydarzeń w dziejach filozofii, które dokonywały się w \\nświetnych środowiskach umysłowych i w epokach obfitujących w umysły twórcze - czy to były \\nAteny w V i VI wieku, czy Londyn początku XVIII w., czy Paryż połowy XVIII w. - tu reforma \\nfilozofii dokonana została przez samotnego człowieka na głuchej prowincji.\\nTrudne  warunki,  obciążenie  pracą  i  wątłość  zdrowia  Kant  neutralizował  niezwyczajnie \\nekonomicznym trybem życia. Było to życie przysłowiowo regularne, systematyczne i do-browolnie \\nnakładające sobie ograniczenia. Żył sam, nie założył rodziny. Instynktownie odrzucał powołania do \\ninnych uniwersytetów (do Erlangen, Halle, Jeny) które rokowały świetniejsze pole działalności \\nnauczycielskiej, ale oderwałyby go od skupienia i spokoju. Co więcej, ten śmiały i liberalny umysł \\ninstynktownie unikał śmiałych i liberalnych wy-stąpień, które mogłyby go narazić władzom czy \\nspołeczeństwu i wytrącić z systematycznej pracy (dopiero w 1794  r.  siedemdziesięcioletniego \\nstarca spotkało surowe napomnienie rządu za postępowe poglądy religijne). Zorganizował życie \\ntak, aby je całkowicie wyzyskać dla pracy.'"
      ]
     },
     "execution_count": 32,
     "metadata": {},
     "output_type": "execute_result"
    }
   ],
   "source": [
    "docs[0].page_content"
   ]
  },
  {
   "cell_type": "code",
   "execution_count": null,
   "id": "4d4ac187-31aa-487f-932e-b12268d8c917",
   "metadata": {},
   "outputs": [],
   "source": []
  },
  {
   "cell_type": "code",
   "execution_count": null,
   "id": "4ce263b2-8493-410a-a49c-4443caa2fd7a",
   "metadata": {},
   "outputs": [],
   "source": []
  }
 ],
 "metadata": {
  "kernelspec": {
   "display_name": "Python 3 (ipykernel)",
   "language": "python",
   "name": "python3"
  },
  "language_info": {
   "codemirror_mode": {
    "name": "ipython",
    "version": 3
   },
   "file_extension": ".py",
   "mimetype": "text/x-python",
   "name": "python",
   "nbconvert_exporter": "python",
   "pygments_lexer": "ipython3",
   "version": "3.12.6"
  }
 },
 "nbformat": 4,
 "nbformat_minor": 5
}
