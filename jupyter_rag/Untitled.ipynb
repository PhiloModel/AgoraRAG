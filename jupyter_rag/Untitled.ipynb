{
 "cells": [
  {
   "cell_type": "code",
   "execution_count": 1,
   "id": "43e22bb7-6800-4aa1-89c0-8604dc26c9b9",
   "metadata": {},
   "outputs": [
    {
     "name": "stdout",
     "output_type": "stream",
     "text": [
      "C:\\Users\\kubak\\Desktop\\PhiloModel\\github\\AgoraRAG\n"
     ]
    },
    {
     "name": "stderr",
     "output_type": "stream",
     "text": [
      "C:\\Users\\kubak\\AppData\\Local\\Programs\\Python\\Python312\\Lib\\site-packages\\IPython\\core\\magics\\osm.py:417: UserWarning: This is now an optional IPython functionality, setting dhist requires you to install the `pickleshare` library.\n",
      "  self.shell.db['dhist'] = compress_dhist(dhist)[-100:]\n"
     ]
    }
   ],
   "source": [
    "%cd .."
   ]
  },
  {
   "cell_type": "code",
   "execution_count": 2,
   "id": "e85c8f59-ae86-43bc-8c71-800fb838746b",
   "metadata": {},
   "outputs": [],
   "source": [
    "import os\n",
    "import openai\n",
    "import sys\n",
    "from dotenv import load_dotenv, find_dotenv"
   ]
  },
  {
   "cell_type": "code",
   "execution_count": 3,
   "id": "8e6a1dfe-bfcf-465d-b78d-39a2f2045c25",
   "metadata": {},
   "outputs": [],
   "source": [
    "sys.path.append('../..')\n",
    "\n",
    "_ = load_dotenv(find_dotenv()) # read local .env file\n",
    "\n",
    "openai.api_key  = os.environ['OPENAI_API_KEY']"
   ]
  },
  {
   "cell_type": "markdown",
   "id": "7c910315-2857-41e5-966d-69800eee89ea",
   "metadata": {},
   "source": [
    "# Load data"
   ]
  },
  {
   "cell_type": "code",
   "execution_count": 4,
   "id": "1bdbf7d9-c6a2-43b6-9a82-890f6f413855",
   "metadata": {},
   "outputs": [],
   "source": [
    "from my_code.load_data.import_pdfs import load_pdfs_from_dir"
   ]
  },
  {
   "cell_type": "code",
   "execution_count": 5,
   "id": "a95226c0-61f5-4dd3-abe9-ec5122886ce8",
   "metadata": {},
   "outputs": [],
   "source": [
    "dir_path = f\"../../data/pdfs/books/HistoriaFilozofii-Tatarkiewicz/\""
   ]
  },
  {
   "cell_type": "code",
   "execution_count": 6,
   "id": "652a51c4-f5f5-43d7-9a15-31379444ac8f",
   "metadata": {},
   "outputs": [
    {
     "name": "stdout",
     "output_type": "stream",
     "text": [
      "Processing ../../data/pdfs/books/HistoriaFilozofii-Tatarkiewicz\\wadysaw-tatarkiewicz-historia-filozofii-tom1.pdf\n",
      "Processing ../../data/pdfs/books/HistoriaFilozofii-Tatarkiewicz\\wadysaw-tatarkiewicz-historia-filozofii-tom2.pdf\n",
      "Loaded 443 docs.\n"
     ]
    }
   ],
   "source": [
    "all_pdfs = load_pdfs_from_dir(dir_path)"
   ]
  },
  {
   "cell_type": "markdown",
   "id": "7996c230-1afa-4d99-ad13-b309e66e0712",
   "metadata": {},
   "source": [
    "# Splitting data"
   ]
  },
  {
   "cell_type": "code",
   "execution_count": 7,
   "id": "6e536b3e-914b-400b-acf4-2d41f9085776",
   "metadata": {},
   "outputs": [],
   "source": [
    "#!pip install chromadb"
   ]
  },
  {
   "cell_type": "code",
   "execution_count": 8,
   "id": "b6b065e3-7c41-4eef-8d55-77e3ef4ab63f",
   "metadata": {},
   "outputs": [],
   "source": [
    "# Split\n",
    "from langchain.text_splitter import RecursiveCharacterTextSplitter\n",
    "\n",
    "text_splitter = RecursiveCharacterTextSplitter(\n",
    "    #separators=[\"\\n\\n\", \"\\n\", \" \", \"\"], \n",
    "    chunk_size = 1000,\n",
    "    chunk_overlap = 150\n",
    ")"
   ]
  },
  {
   "cell_type": "code",
   "execution_count": 9,
   "id": "936565c0-58f2-464b-ab3c-ab0947792c85",
   "metadata": {},
   "outputs": [],
   "source": [
    "splits = text_splitter.split_documents(all_pdfs)"
   ]
  },
  {
   "cell_type": "code",
   "execution_count": 10,
   "id": "f3972b1a-b7fc-4300-8e53-e13df08047f5",
   "metadata": {},
   "outputs": [
    {
     "data": {
      "text/plain": [
       "2362"
      ]
     },
     "execution_count": 10,
     "metadata": {},
     "output_type": "execute_result"
    }
   ],
   "source": [
    "len(splits)"
   ]
  },
  {
   "cell_type": "code",
   "execution_count": 11,
   "id": "6533ead7-af04-4595-ab92-ae4363023079",
   "metadata": {},
   "outputs": [
    {
     "data": {
      "text/plain": [
       "'Wszystko płynie, nic nie trwa, \"niepodobna wstąpić dwukrotnie do tej samej rzeki\", bo już inne  \\nnapłynęły w nią wody. Obrazem rzeczywistości jest również śmierć: \"obawiamy się jednej śmierci,  \\na już wielu śmierciom ulegliśmy\"; \"dla duszy jest śmiercią stać się wodą, dla wody jest śmiercią  \\nstać się ziemią\". Natura jest ciągłą śmiercią i ciągłym rodzeniem się; ta sama natura jest ciągle  \\ninna: \"do tej samej rzeki wstępujemy i nie wstępujemy\". Nie możemy powiedzieć, że jesteśmy, bo  \\n\"jesteśmy i nie jesteśmy zarazem\";  prawdą jest tylko,  że się zmieniamy.  Wprawdzie niekiedy  \\nrzeczy zdają się trwać, ale trwanie ich jest złudzeniem. Nie ma rzeczy o stałych własnościach; nie'"
      ]
     },
     "execution_count": 11,
     "metadata": {},
     "output_type": "execute_result"
    }
   ],
   "source": [
    "splits[100].page_content"
   ]
  },
  {
   "cell_type": "markdown",
   "id": "5a171579-068b-4743-a5a2-3e1fc84345c1",
   "metadata": {},
   "source": [
    "# Embedding"
   ]
  },
  {
   "cell_type": "code",
   "execution_count": 12,
   "id": "acc4f19a-1a51-4d51-a880-4f558d3af08f",
   "metadata": {},
   "outputs": [
    {
     "name": "stderr",
     "output_type": "stream",
     "text": [
      "C:\\Users\\kubak\\AppData\\Local\\Temp\\ipykernel_4792\\1742550774.py:2: LangChainDeprecationWarning: The class `OpenAIEmbeddings` was deprecated in LangChain 0.0.9 and will be removed in 1.0. An updated version of the class exists in the :class:`~langchain-openai package and should be used instead. To use it run `pip install -U :class:`~langchain-openai` and import as `from :class:`~langchain_openai import OpenAIEmbeddings``.\n",
      "  embedding = OpenAIEmbeddings()\n"
     ]
    }
   ],
   "source": [
    "from langchain.embeddings.openai import OpenAIEmbeddings\n",
    "embedding = OpenAIEmbeddings()"
   ]
  },
  {
   "cell_type": "markdown",
   "id": "0eb3425a-dc66-4d4a-b327-7c4702251a73",
   "metadata": {},
   "source": [
    "# Vectorstores"
   ]
  },
  {
   "cell_type": "code",
   "execution_count": 13,
   "id": "e2fd802f-5392-4991-980b-fd8359c96027",
   "metadata": {},
   "outputs": [],
   "source": [
    "from langchain.vectorstores import Chroma"
   ]
  },
  {
   "cell_type": "code",
   "execution_count": 14,
   "id": "94b3e024-0ff9-4aa8-b0e3-37b024840227",
   "metadata": {},
   "outputs": [],
   "source": [
    "persist_directory = 'docs/chroma/'"
   ]
  },
  {
   "cell_type": "code",
   "execution_count": 15,
   "id": "ff0709fb-ef09-4902-a736-862c4a5e473f",
   "metadata": {},
   "outputs": [],
   "source": [
    "! rm -rf ./docs/chroma  # remove old database files if any"
   ]
  },
  {
   "cell_type": "code",
   "execution_count": 16,
   "id": "fd7c4d1c-8264-496c-97dc-145863d0de39",
   "metadata": {
    "scrolled": true
   },
   "outputs": [],
   "source": [
    "vectordb = Chroma.from_documents(\n",
    "    documents=splits,\n",
    "    embedding=embedding,\n",
    "    persist_directory=persist_directory\n",
    ")"
   ]
  },
  {
   "cell_type": "code",
   "execution_count": 17,
   "id": "6afedc85-b500-44a0-89b8-0abe8a576e76",
   "metadata": {},
   "outputs": [
    {
     "name": "stdout",
     "output_type": "stream",
     "text": [
      "2362\n"
     ]
    }
   ],
   "source": [
    "print(f'Rozmiar vectorDB: {vectordb._collection.count()}')"
   ]
  },
  {
   "cell_type": "markdown",
   "id": "f3dec73d-1346-492d-b442-a4e423f29361",
   "metadata": {},
   "source": [
    "# Similiarity Search"
   ]
  },
  {
   "cell_type": "code",
   "execution_count": 18,
   "id": "c0452ea8-d095-4fa5-bc73-b57636b4e1b9",
   "metadata": {},
   "outputs": [],
   "source": [
    "question = \"Kim był Kant?\""
   ]
  },
  {
   "cell_type": "code",
   "execution_count": 19,
   "id": "d4886988-241b-4daa-ad0e-1f56911ad792",
   "metadata": {},
   "outputs": [],
   "source": [
    "docs = vectordb.similarity_search(question, k=3)"
   ]
  },
  {
   "cell_type": "code",
   "execution_count": 20,
   "id": "92f86327-9659-4560-932e-4e4bab5f7745",
   "metadata": {},
   "outputs": [
    {
     "data": {
      "text/plain": [
       "'specjalne  towarzystwo  kaniowskie  (Kantgesellschaft),  będące  głównym  zrzesze-niem \\nfilozoficzny'"
      ]
     },
     "execution_count": 20,
     "metadata": {},
     "output_type": "execute_result"
    }
   ],
   "source": [
    "docs[0].page_content[:100]"
   ]
  },
  {
   "cell_type": "code",
   "execution_count": 21,
   "id": "4d4ac187-31aa-487f-932e-b12268d8c917",
   "metadata": {},
   "outputs": [],
   "source": [
    "docs_mmr = vectordb.max_marginal_relevance_search(question, k=3)"
   ]
  },
  {
   "cell_type": "code",
   "execution_count": 22,
   "id": "4ce263b2-8493-410a-a49c-4443caa2fd7a",
   "metadata": {},
   "outputs": [
    {
     "data": {
      "text/plain": [
       "'specjalne  towarzystwo  kaniowskie  (Kantgesellschaft),  będące  głównym  zrzesze-niem \\nfilozoficzny'"
      ]
     },
     "execution_count": 22,
     "metadata": {},
     "output_type": "execute_result"
    }
   ],
   "source": [
    "docs_mmr[0].page_content[:100]"
   ]
  },
  {
   "cell_type": "markdown",
   "id": "de89fa6e-b35f-4d4f-8b8e-182c7c9df12b",
   "metadata": {},
   "source": [
    "# Retriver"
   ]
  },
  {
   "cell_type": "code",
   "execution_count": 23,
   "id": "11eccabf-8eed-4c9e-8b93-783e3ae3c531",
   "metadata": {},
   "outputs": [],
   "source": [
    "from langchain.llms import OpenAI\n",
    "from langchain.retrievers.self_query.base import SelfQueryRetriever\n",
    "from langchain.chains.query_constructor.base import AttributeInfo"
   ]
  },
  {
   "cell_type": "code",
   "execution_count": 24,
   "id": "ad037532-dfa4-4416-a17f-49ff389421d4",
   "metadata": {},
   "outputs": [],
   "source": [
    "metadata_field_info = [\n",
    "    AttributeInfo(\n",
    "        name=\"source\",\n",
    "        description=\"Źródło wiadomosci\",\n",
    "        type=\"string\",\n",
    "    ),\n",
    "    AttributeInfo(\n",
    "        name=\"page\",\n",
    "        description=\"Strona\",\n",
    "        type=\"integer\",\n",
    "    ),\n",
    "]"
   ]
  },
  {
   "cell_type": "code",
   "execution_count": 25,
   "id": "adbb90f4-a977-44ea-8ea1-3549dd79f066",
   "metadata": {},
   "outputs": [
    {
     "name": "stderr",
     "output_type": "stream",
     "text": [
      "C:\\Users\\kubak\\AppData\\Local\\Temp\\ipykernel_4792\\3576603665.py:3: LangChainDeprecationWarning: The class `OpenAI` was deprecated in LangChain 0.0.10 and will be removed in 1.0. An updated version of the class exists in the :class:`~langchain-openai package and should be used instead. To use it run `pip install -U :class:`~langchain-openai` and import as `from :class:`~langchain_openai import OpenAI``.\n",
      "  llm = OpenAI(model='gpt-3.5-turbo-instruct', temperature=0)\n"
     ]
    }
   ],
   "source": [
    "document_content_description = \"Streszczenie poglądów filozofa.\"\n",
    "\n",
    "llm = OpenAI(model='gpt-3.5-turbo-instruct', temperature=0)\n",
    "retriever = SelfQueryRetriever.from_llm(\n",
    "    llm,\n",
    "    vectordb,\n",
    "    document_content_description,\n",
    "    metadata_field_info,\n",
    "    verbose=True\n",
    ")"
   ]
  },
  {
   "cell_type": "code",
   "execution_count": 26,
   "id": "ce7093d8-4f27-4aea-95c6-d79348d9b870",
   "metadata": {},
   "outputs": [],
   "source": [
    "question = \"Kim był Kant?\""
   ]
  },
  {
   "cell_type": "code",
   "execution_count": 27,
   "id": "a47f49c7-9269-4f93-9a9c-2b2e19186f7e",
   "metadata": {},
   "outputs": [
    {
     "name": "stderr",
     "output_type": "stream",
     "text": [
      "C:\\Users\\kubak\\AppData\\Local\\Temp\\ipykernel_4792\\10663643.py:1: LangChainDeprecationWarning: The method `BaseRetriever.get_relevant_documents` was deprecated in langchain-core 0.1.46 and will be removed in 1.0. Use :meth:`~invoke` instead.\n",
      "  docs = retriever.get_relevant_documents(question)\n"
     ]
    }
   ],
   "source": [
    "docs = retriever.get_relevant_documents(question)"
   ]
  },
  {
   "cell_type": "code",
   "execution_count": 29,
   "id": "5d20e06d-5905-4406-86af-5b3d5b2e5f8d",
   "metadata": {
    "scrolled": true
   },
   "outputs": [
    {
     "name": "stdout",
     "output_type": "stream",
     "text": [
      "metafizyki moralności (Grundlegung zur Metaphysik der Sitten), 1785. Poza trzema krytykami i \n",
      "ich wariantami Kant ogłosił w tym okresie swą  filozofię dziejów (Idee zu einer allgemeinen \n",
      "Geschichte  in  weltburgerlicher  Absicht,  1784),  swą  filo-zofię  przyrody  (Metaphysische \n",
      "Anfangsgriinde der Naturwissenschaft, 1786) i swą filozofię religii (Die Religion innerhalb der \n",
      "Grenzen der blossen Vernunft, 1793). Po opuszczeniu katedry ogłosił niektóre ze swych wykładów \n",
      "uniwersyteckich: antropologię ogłosił sam w 1798, logikę opublikował zań Jasche; filozofię religii \n",
      "i metafizykę ogłosił Poltitz już po śmierci Kanta w 1817 i 1821, etykę zaś dopiero w 1924 r. \n",
      "Menzer.  Po  śmierci  Kanta  wy-dano  różne  jego  rękopisy,  przeważnie  notaty,  z  których \n",
      "najważniejsze są: Reflexionen, wyd. Erdmanna, 1882-1884, i Lose Blatter, wyd. Reickego, 1889-\n",
      "1899.\n",
      "ORIENTACJA.  Kant rozpoczął swą  twórczość  naukową  od  prac  przyrodniczych;  jako docent\n",
      "nie uznał tego ulepszenia, nazywał je „hiperkrytycyzmem\". Ale w tym kierunku poszedł Fichte, za \n",
      "nim Schelling i Hegel, najwpływowsi i najsamodzielniejsi filozofowie ówczesnych Niemiec. Jak \n",
      "tamta grupa kładła nacisk na sceptyczne pier-wiastki u Kanta, tak ta znów na spekulatywne. Kant \n",
      "lubił konstrukcje pojęciowe (ich płodem była np. tablica kategorii); konstrukcje te stały się metodą \n",
      "Fichtego i Hegla. W poglądzie Kanta, że rozum dyktuje prawa światu, a także w jego nauce o \n",
      "prymacie rozumu praktycznego, następcy znaleźli podstawę nowej, idealistycznej metafizyki. Ta \n",
      "metafizyka wyparła niebawem filozofię krytyczną, z której wzięła była początek. - Filo-zofowie \n",
      "obu  tych  grup  łączyli  uznanie  dla  Kanta  z  krytyką  i  mogą  być  zaliczeni  zarówno  do  jego \n",
      "zwolenników, jak i do przeciwników.\n",
      "PRZECIWNICY. Filozofia Kanta zyskała rozgłos, ale z początku był to przeważnie rozgłos bez \n",
      "uznania. Kant wystąpił z nową myślą, do żadnego obozu filozoficznego się nie przyłączył; toteż\n",
      "specjalne  towarzystwo  kaniowskie  (Kantgesellschaft),  będące  głównym  zrzesze-niem \n",
      "filozoficznym Niemiec. Zostały zawieszone w czasach hitlerowskich.\n",
      "Entuzjazm dla Kanta, który doszedł do szczytu w końcu XIX w, zmalał bardzo w wieku XX. I \n",
      "podniosły się dość liczne głosy, że Kant był wręcz ujemnym czynnikiem w rozwoju filozofii. Głosy \n",
      "te wychodziły nie tylko z prawicy filozoficznej, ale i z lewicy, nie tylko od metafizyków, ale i od \n",
      "empirystów. Polscy logistycy pisali, że filozofia Kanta była nienauko-wa, a B. Russel oświadczył, \n",
      "że była dla rozwoju filozofii - klęską. Miał zresztą na myśli nie tyle samego Kanta, ile jego \n",
      "następców, idealistów spekulatywnych.\n",
      "KWESTIE SPORNE. Interpretacja zasadniczej koncepcji Kanta jest wciąż jeszcze przedmiotem \n",
      "sporu:\n",
      "1. Spór między interpretacją realistyczną (której broni większość kantystów) i idealistyczną (szkoła \n",
      "marburska): czy rzeczy same w sobie istnieją poza zjawiskami, czy też są tylko fikcją umysłu,\n",
      "przy tym dotyczące spraw bardziej specjalnych. Dla ogólnych zagadnień filozofii istotne w estetyce \n",
      "Kanta było wyodrębnienie i określenie faktów estetycznych; było to jedno z ważnych posunięć \n",
      "Kanta w jego przedsięwzięciu zmierzającym do tego, by rozgraniczyć dziedziny rzeczywistości, by \n",
      "znaleźć  władze  umysłu  zdolne  je  poznać,  a  przede  wszystkim,  by  odszukać  w  ich  poznaniu \n",
      "czynniki powszechne i konieczne.\n",
      "ISTOTĘ  KANTYZMU  stanowił  pogląd,  nazywany  także  „krytycyzmem\"  lub \n",
      "„transcendentalizmem\",  wedle  którego  podmiot  jest  warunkiem  przedmiotu,  a  pojęcia  są  wa-\n",
      "runkiem doświadczenia. Konsekwencjami tego poglądu były:\n"
     ]
    }
   ],
   "source": [
    "for i, doc in enumerate(docs):\n",
    "    print(doc.page_content)"
   ]
  },
  {
   "cell_type": "markdown",
   "id": "5b3a09fe-12a3-4373-a031-51f060d24f33",
   "metadata": {},
   "source": [
    "# RetrievalQA chain"
   ]
  },
  {
   "cell_type": "code",
   "execution_count": 30,
   "id": "34231d33-8786-4234-a10d-fc4791cf12d8",
   "metadata": {},
   "outputs": [],
   "source": [
    "from langchain.chains import RetrievalQA\n",
    "from langchain.prompts import PromptTemplate\n"
   ]
  },
  {
   "cell_type": "code",
   "execution_count": 63,
   "id": "ce98ce25-9056-4571-bca6-cf2fec0863e4",
   "metadata": {},
   "outputs": [],
   "source": [
    "# Build prompt\n",
    "template = \"\"\"Use the following pieces of context to answer the question at the end. If you don't know the answer, just say that you don't know, don't try to make up an answer. Use three sentences maximum. Keep the answer as concise as possible. Always say \"~ PhiloBot!\" at the end of the answer. \n",
    "{context}\n",
    "Question: {question}\n",
    "Helpful Answer:\"\"\"\n",
    "\n",
    "QA_CHAIN_PROMPT = PromptTemplate(input_variables=[\"context\", \"question\"],template=template,)"
   ]
  },
  {
   "cell_type": "code",
   "execution_count": 64,
   "id": "25f00270-5675-4381-8138-d1988feffa80",
   "metadata": {},
   "outputs": [
    {
     "name": "stderr",
     "output_type": "stream",
     "text": [
      "C:\\Users\\kubak\\AppData\\Local\\Temp\\ipykernel_4792\\1956280058.py:2: LangChainDeprecationWarning: Please see the migration guide at: https://python.langchain.com/docs/versions/migrating_memory/\n",
      "  memory = ConversationBufferMemory(\n"
     ]
    }
   ],
   "source": [
    "from langchain.memory import ConversationBufferMemory\n",
    "memory = ConversationBufferMemory(\n",
    "    memory_key=\"chat_history\",\n",
    "    return_messages=True\n",
    ")"
   ]
  },
  {
   "cell_type": "code",
   "execution_count": 65,
   "id": "9dae690c-54f2-4efd-85ee-f0d65aa4d082",
   "metadata": {},
   "outputs": [],
   "source": [
    "from langchain.chains import ConversationalRetrievalChain\n",
    "retriever=vectordb.as_retriever()\n",
    "\n",
    "qa = ConversationalRetrievalChain.from_llm(\n",
    "    llm,\n",
    "    retriever=retriever,\n",
    "    memory=memory\n",
    ")"
   ]
  },
  {
   "cell_type": "code",
   "execution_count": 66,
   "id": "b0b2762e-f4fb-4f85-8ff8-bdc680e651db",
   "metadata": {},
   "outputs": [],
   "source": [
    "question = \"Jak kant bronił istnienia sądów syntetycznych apriori?\"\n",
    "result = qa({\"question\": question})"
   ]
  },
  {
   "cell_type": "code",
   "execution_count": 70,
   "id": "fc0303d6-2cef-4daa-af5f-874deb6a3d13",
   "metadata": {},
   "outputs": [
    {
     "data": {
      "text/plain": [
       "'Kant bronił istnienia sądów syntetycznych a priori, opierając się na dwóch naukach: matematyce i czystym przyrodoznawstwie. Uważał, że sądy matematyczne są a priori i syntetyczne, niezależne od doświadczenia, ale przynoszące dodatkową wiedzę. Kant argumentował, że doświadczenie nie zapewnia pełnej powszechności i pewności, a tylko sądy a priori (takie jak syntetyczne) spełniają te kryteria. Jego zdaniem, ujęcie sądów syntetycznych a priori było istotne dla filozofii, chociaż zdanie to było przedmiotem kontrowersji wśród innych filozofów, takich jak empiryci.'"
      ]
     },
     "execution_count": 70,
     "metadata": {},
     "output_type": "execute_result"
    }
   ],
   "source": [
    "result['answer']"
   ]
  },
  {
   "cell_type": "markdown",
   "id": "d52dcb26-81d6-4aac-b927-302848414e09",
   "metadata": {},
   "source": [
    "# GUI"
   ]
  },
  {
   "cell_type": "code",
   "execution_count": null,
   "id": "f8f10373-53c1-42b7-9bf4-f151e8479d1b",
   "metadata": {},
   "outputs": [],
   "source": []
  },
  {
   "cell_type": "code",
   "execution_count": 80,
   "id": "1522327f-5222-402a-8f13-25419c959987",
   "metadata": {},
   "outputs": [],
   "source": [
    "import panel as pn\n",
    "import param\n",
    "\n",
    "class cbfs(param.Parameterized):\n",
    "    chat_history = param.List([])\n",
    "    answer = param.String(\"\")\n",
    "    db_query  = param.String(\"\")\n",
    "    db_response = param.List([])\n",
    "    \n",
    "    def __init__(self, qa, **params):\n",
    "        super(cbfs, self).__init__( **params)\n",
    "        self.panels = []\n",
    "        self.loaded_file = \"docs/cs229_lectures/MachineLearning-Lecture01.pdf\"\n",
    "        self.qa = qa\n",
    "    \n",
    "    def call_load_db(self, count):\n",
    "        if count == 0 or file_input.value is None:  # init or no file specified :\n",
    "            return pn.pane.Markdown(f\"Loaded File: {self.loaded_file}\")\n",
    "        else:\n",
    "            file_input.save(\"temp.pdf\")  # local copy\n",
    "            self.loaded_file = file_input.filename\n",
    "            button_load.button_style=\"outline\"\n",
    "            self.qa = qa\n",
    "            button_load.button_style=\"solid\"\n",
    "        self.clr_history()\n",
    "        return pn.pane.Markdown(f\"Loaded File: {self.loaded_file}\")\n",
    "\n",
    "    def convchain(self, query):\n",
    "        if not query:\n",
    "            return pn.WidgetBox(pn.Row('User:', pn.pane.Markdown(\"\", width=600)), scroll=True)\n",
    "        result = self.qa({\"question\": query, \"chat_history\": self.chat_history})\n",
    "        self.chat_history.extend([(query, result[\"answer\"])])\n",
    "        self.db_query = result[\"generated_question\"]\n",
    "        self.db_response = result[\"source_documents\"]\n",
    "        self.answer = result['answer'] \n",
    "        self.panels.extend([\n",
    "            pn.Row('User:', pn.pane.Markdown(query, width=600)),\n",
    "            pn.Row('ChatBot:', pn.pane.Markdown(self.answer, width=600, style={'background-color': '#F6F6F6'}))\n",
    "        ])\n",
    "        inp.value = ''  #clears loading indicator when cleared\n",
    "        return pn.WidgetBox(*self.panels,scroll=True)\n",
    "\n",
    "    @param.depends('db_query ', )\n",
    "    def get_lquest(self):\n",
    "        if not self.db_query :\n",
    "            return pn.Column(\n",
    "                pn.Row(pn.pane.Markdown(f\"Last question to DB:\", styles={'background-color': '#F6F6F6'})),\n",
    "                pn.Row(pn.pane.Str(\"no DB accesses so far\"))\n",
    "            )\n",
    "        return pn.Column(\n",
    "            pn.Row(pn.pane.Markdown(f\"DB query:\", styles={'background-color': '#F6F6F6'})),\n",
    "            pn.pane.Str(self.db_query )\n",
    "        )\n",
    "\n",
    "    @param.depends('db_response', )\n",
    "    def get_sources(self):\n",
    "        if not self.db_response:\n",
    "            return \n",
    "        rlist=[pn.Row(pn.pane.Markdown(f\"Result of DB lookup:\", styles={'background-color': '#F6F6F6'}))]\n",
    "        for doc in self.db_response:\n",
    "            rlist.append(pn.Row(pn.pane.Str(doc)))\n",
    "        return pn.WidgetBox(*rlist, width=600, scroll=True)\n",
    "\n",
    "    @param.depends('convchain', 'clr_history') \n",
    "    def get_chats(self):\n",
    "        if not self.chat_history:\n",
    "            return pn.WidgetBox(pn.Row(pn.pane.Str(\"No History Yet\")), width=600, scroll=True)\n",
    "        rlist=[pn.Row(pn.pane.Markdown(f\"Current Chat History variable\", styles={'background-color': '#F6F6F6'}))]\n",
    "        for exchange in self.chat_history:\n",
    "            rlist.append(pn.Row(pn.pane.Str(exchange)))\n",
    "        return pn.WidgetBox(*rlist, width=600, scroll=True)\n",
    "\n",
    "    def clr_history(self,count=0):\n",
    "        self.chat_history = []\n",
    "        return \n"
   ]
  },
  {
   "cell_type": "code",
   "execution_count": 81,
   "id": "8d0106e6-e92d-414a-a1af-ad2cc85f0fc0",
   "metadata": {},
   "outputs": [
    {
     "name": "stderr",
     "output_type": "stream",
     "text": [
      "WARNING:param.Column00302: Displaying Panel objects in the notebook requires the panel extension to be loaded. Ensure you run pn.extension() before displaying objects in the notebook.\n"
     ]
    },
    {
     "data": {
      "text/plain": [
       "Column\n",
       "    [0] Row\n",
       "        [0] Markdown(str)\n",
       "    [1] Tabs\n",
       "        [0] Column\n",
       "            [0] Row\n",
       "                [0] TextInput(placeholder='Enter text here…')\n",
       "            [1] Divider()\n",
       "            [2] ParamFunction(function, _pane=WidgetBox, defer_load=False, height=300, loading_indicator=True)\n",
       "            [3] Divider()\n",
       "        [1] Column\n",
       "            [0] ParamMethod(method, _pane=Column, defer_load=False)\n",
       "            [1] Divider()\n",
       "            [2] ParamMethod(method, _pane=Str, defer_load=False)\n",
       "        [2] Column\n",
       "            [0] ParamMethod(method, _pane=WidgetBox, defer_load=False)\n",
       "            [1] Divider()\n",
       "        [3] Column\n",
       "            [0] Row\n",
       "                [0] FileInput(accept='.pdf')\n",
       "                [1] Button(button_type='primary', name='Load DB')\n",
       "                [2] ParamFunction(function, _pane=Markdown, defer_load=False)\n",
       "            [1] Row\n",
       "                [0] Button(button_type='warning', name='Clear History')\n",
       "                [1] Markdown(str)\n",
       "            [2] Divider()\n",
       "            [3] Row\n",
       "                [0] Image(str, width=400)"
      ]
     },
     "execution_count": 81,
     "metadata": {},
     "output_type": "execute_result"
    }
   ],
   "source": [
    "cb = cbfs(qa)\n",
    "\n",
    "file_input = pn.widgets.FileInput(accept='.pdf')\n",
    "button_load = pn.widgets.Button(name=\"Load DB\", button_type='primary')\n",
    "button_clearhistory = pn.widgets.Button(name=\"Clear History\", button_type='warning')\n",
    "button_clearhistory.on_click(cb.clr_history)\n",
    "inp = pn.widgets.TextInput( placeholder='Enter text here…')\n",
    "\n",
    "bound_button_load = pn.bind(cb.call_load_db, button_load.param.clicks)\n",
    "conversation = pn.bind(cb.convchain, inp) \n",
    "\n",
    "jpg_pane = pn.pane.Image( './img/convchain.jpg')\n",
    "\n",
    "tab1 = pn.Column(\n",
    "    pn.Row(inp),\n",
    "    pn.layout.Divider(),\n",
    "    pn.panel(conversation,  loading_indicator=True, height=300),\n",
    "    pn.layout.Divider(),\n",
    ")\n",
    "tab2= pn.Column(\n",
    "    pn.panel(cb.get_lquest),\n",
    "    pn.layout.Divider(),\n",
    "    pn.panel(cb.get_sources ),\n",
    ")\n",
    "tab3= pn.Column(\n",
    "    pn.panel(cb.get_chats),\n",
    "    pn.layout.Divider(),\n",
    ")\n",
    "tab4=pn.Column(\n",
    "    pn.Row( file_input, button_load, bound_button_load),\n",
    "    pn.Row( button_clearhistory, pn.pane.Markdown(\"Clears chat history. Can use to start a new topic\" )),\n",
    "    pn.layout.Divider(),\n",
    "    pn.Row(jpg_pane.clone(width=400))\n",
    ")\n",
    "dashboard = pn.Column(\n",
    "    pn.Row(pn.pane.Markdown('# ChatWithYourData_Bot')),\n",
    "    pn.Tabs(('Conversation', tab1), ('Database', tab2), ('Chat History', tab3),('Configure', tab4))\n",
    ")\n",
    "dashboard"
   ]
  },
  {
   "cell_type": "code",
   "execution_count": null,
   "id": "f73af282-b290-4060-b3fb-6c4e6d4a8315",
   "metadata": {},
   "outputs": [],
   "source": []
  }
 ],
 "metadata": {
  "kernelspec": {
   "display_name": "Python 3 (ipykernel)",
   "language": "python",
   "name": "python3"
  },
  "language_info": {
   "codemirror_mode": {
    "name": "ipython",
    "version": 3
   },
   "file_extension": ".py",
   "mimetype": "text/x-python",
   "name": "python",
   "nbconvert_exporter": "python",
   "pygments_lexer": "ipython3",
   "version": "3.12.6"
  }
 },
 "nbformat": 4,
 "nbformat_minor": 5
}
